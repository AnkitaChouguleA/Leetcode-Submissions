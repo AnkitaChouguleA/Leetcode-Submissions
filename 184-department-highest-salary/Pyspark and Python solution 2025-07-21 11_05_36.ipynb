{
 "cells": [
  {
   "cell_type": "code",
   "execution_count": 0,
   "metadata": {
    "application/vnd.databricks.v1+cell": {
     "cellMetadata": {
      "byteLimit": 2048000,
      "rowLimit": 10000
     },
     "inputWidgets": {},
     "nuid": "9dfa96e5-0764-4a43-966f-9d717ac9f49b",
     "showTitle": false,
     "tableResultSettingsMap": {},
     "title": ""
    }
   },
   "outputs": [],
   "source": [
    "from pyspark.sql import SparkSession\n",
    "from pyspark.sql.window import Window\n",
    "from pyspark.sql.functions import col, rank, dense_rank, max\n",
    "\n",
    "# Initialize Spark Session (already available in Databricks notebooks)\n",
    "spark = SparkSession.builder.appName(\"LeetCode184\").getOrCreate()\n",
    "\n",
    "\n"
   ]
  },
  {
   "cell_type": "code",
   "execution_count": 0,
   "metadata": {
    "application/vnd.databricks.v1+cell": {
     "cellMetadata": {
      "byteLimit": 2048000,
      "rowLimit": 10000
     },
     "inputWidgets": {},
     "nuid": "4d2a2ffa-704b-4ad7-a83e-50c15e5d91e6",
     "showTitle": false,
     "tableResultSettingsMap": {},
     "title": ""
    }
   },
   "outputs": [],
   "source": [
    "# --- 1. Create Employee DataFrame ---\n",
    "# Define schema for Employee table\n",
    "employee_data = [\n",
    "    (1, \"Joe\", 70000, 1),\n",
    "    (2, \"Jim\", 90000, 1),\n",
    "    (3, \"Henry\", 80000, 2),\n",
    "    (4, \"Sam\", 60000, 2),\n",
    "    (5, \"Max\", 90000, 1)\n",
    "]\n",
    "employee_columns = [\"id\", \"name\", \"salary\", \"departmentId\"]\n",
    "employee_df = spark.createDataFrame(employee_data, employee_columns)\n",
    "\n",
    "# Register as a temporary SQL view for PySpark SQL approach\n",
    "employee_df.createOrReplaceTempView(\"Employee\")\n",
    "print(\"Employee DataFrame:\")\n",
    "employee_df.show()"
   ]
  },
  {
   "cell_type": "code",
   "execution_count": 0,
   "metadata": {
    "application/vnd.databricks.v1+cell": {
     "cellMetadata": {
      "byteLimit": 2048000,
      "rowLimit": 10000
     },
     "inputWidgets": {},
     "nuid": "97b65afa-5e9e-4a34-9baa-a57466e6d3e6",
     "showTitle": false,
     "tableResultSettingsMap": {},
     "title": ""
    }
   },
   "outputs": [],
   "source": [
    "# --- 2. Create Department DataFrame ---\n",
    "# Define schema for Department table\n",
    "department_data = [\n",
    "    (1, \"IT\"),\n",
    "    (2, \"Sales\")\n",
    "]\n",
    "department_columns = [\"id\", \"name\"]\n",
    "department_df = spark.createDataFrame(department_data, department_columns)\n",
    "\n",
    "# Register as a temporary SQL view for PySpark SQL approach\n",
    "department_df.createOrReplaceTempView(\"Department\")\n",
    "print(\"Department DataFrame:\")\n",
    "department_df.show()"
   ]
  },
  {
   "cell_type": "code",
   "execution_count": 0,
   "metadata": {
    "application/vnd.databricks.v1+cell": {
     "cellMetadata": {
      "byteLimit": 2048000,
      "rowLimit": 10000
     },
     "inputWidgets": {},
     "nuid": "74c9ae1c-29e1-4064-809b-29f25b420bde",
     "showTitle": false,
     "tableResultSettingsMap": {},
     "title": ""
    }
   },
   "outputs": [],
   "source": [
    "# --- Solution 1: Using PySpark SQL ---\n",
    "print(\"--- Solution 1: PySpark SQL ---\")\n",
    "spark_sql_sol = spark.sql(\"\"\"\n",
    "SELECT d.name AS Department, e.name AS Employee, e.salary AS Salary\n",
    "FROM Employee e\n",
    "JOIN Department d ON e.departmentId = d.id\n",
    "WHERE (e.departmentId, e.salary) IN (\n",
    "    SELECT departmentId, MAX(salary) FROM Employee GROUP BY departmentId\n",
    ")\n",
    "ORDER BY d.name, e.name\n",
    "\"\"\")\n",
    "print(\"PySpark SQL Solution Output:\")\n",
    "spark_sql_sol.show()"
   ]
  },
  {
   "cell_type": "code",
   "execution_count": 0,
   "metadata": {
    "application/vnd.databricks.v1+cell": {
     "cellMetadata": {
      "byteLimit": 2048000,
      "rowLimit": 10000
     },
     "inputWidgets": {},
     "nuid": "91d50219-dfc4-4413-9a40-8314561cfe2e",
     "showTitle": false,
     "tableResultSettingsMap": {},
     "title": ""
    }
   },
   "outputs": [],
   "source": [
    "# --- Solution 2: Using PySpark DataFrame API ---\n",
    "print(\"--- Solution 2: PySpark DataFrame API ---\")\n",
    "\n",
    "from pyspark.sql.functions import col, rank\n",
    "from pyspark.sql.window import Window\n",
    "\n",
    "joined_df = employee_df.alias(\"e\").join(department_df.alias(\"d\"),col(\"e.departmentid\") == col(\"d.id\"),\"inner\") \\\n",
    ".select(\n",
    "    col(\"d.name\").alias(\"Department\"),\n",
    "    col(\"e.name\").alias(\"Employee\"),\n",
    "    col(\"e.salary\").alias(\"Salary\")\n",
    ")\n",
    "\n",
    "# 2. Define a window specification\n",
    "# Partition by department and order by salary in descending order\n",
    "window_spec = Window.partitionBy(\"Department\").orderBy(col(\"Salary\").desc())\n",
    "\n",
    "# 3. Apply window function to rank salaries within each department\n",
    "ranked_df = joined_df.withColumn(\"rank\", dense_rank().over(window_spec))\n",
    "\n",
    "final_df = ranked_df.filter(col(\"rank\") == 1).select(\"Department\", \"Employee\", \"Salary\").orderBy(\"Department\", \"Employee\")\n",
    "print(\"PySpark DataFrame API Solution Output:\")\n",
    "display(final_df)"
   ]
  },
  {
   "cell_type": "code",
   "execution_count": 0,
   "metadata": {
    "application/vnd.databricks.v1+cell": {
     "cellMetadata": {
      "byteLimit": 2048000,
      "rowLimit": 10000
     },
     "inputWidgets": {},
     "nuid": "f73d27e9-e237-4226-85a2-26c1d4657481",
     "showTitle": false,
     "tableResultSettingsMap": {},
     "title": ""
    }
   },
   "outputs": [],
   "source": [
    "import builtins # Import builtins to explicitly use Python's native max function\n",
    "\n",
    "def department_highest_salary_python(employees_data, departments_data):\n",
    "    \"\"\"\n",
    "    Finds employees who have the highest salary in each of their departments\n",
    "    using pure Python.\n",
    "\n",
    "    Args:\n",
    "        employees_data (list of dict): List of dictionaries representing the Employee table.\n",
    "                                      Each dict should have 'id', 'name', 'salary', 'departmentId'.\n",
    "        departments_data (list of dict): List of dictionaries representing the Department table.\n",
    "                                        Each dict should have 'id', 'name'.\n",
    "\n",
    "    Returns:\n",
    "        list of dict: A list of dictionaries with 'Department', 'Employee', 'Salary'\n",
    "                      for employees with the highest salary in their department.\n",
    "    \"\"\"\n",
    "\n",
    "    # 1. Create a lookup for department names by ID for easy joining\n",
    "    department_names = {dept['id']: dept['name'] for dept in departments_data}\n",
    "\n",
    "    # 2. Find the maximum salary for each department in a single pass.\n",
    "    # This avoids recalculating the max salary for each department repeatedly.\n",
    "    # Stores max_salary_per_dept = {department_id: max_salary}\n",
    "    max_salary_per_dept = {}\n",
    "    for emp in employees_data:\n",
    "        dept_id = emp['departmentId']\n",
    "        salary = emp['salary']\n",
    "        # If department not seen yet, or current salary is higher than recorded max\n",
    "        if dept_id not in max_salary_per_dept or salary > max_salary_per_dept[dept_id]:\n",
    "            max_salary_per_dept[dept_id] = salary\n",
    "\n",
    "    # 3. Filter employees who have the highest salary in their department\n",
    "    #    and prepare the final output format.\n",
    "    result = []\n",
    "    for emp in employees_data:\n",
    "        dept_id = emp['departmentId']\n",
    "        employee_name = emp['name']\n",
    "        salary = emp['salary']\n",
    "\n",
    "        # Get department name, handling cases where departmentId might not be found (though problem implies it exists)\n",
    "        department_name = department_names.get(dept_id)\n",
    "        if department_name is None:\n",
    "            # If department ID is not found in departments_data, skip this employee\n",
    "            continue\n",
    "\n",
    "        # Check if this employee's salary matches the highest in their department\n",
    "        # using the pre-calculated max_salary_per_dept and explicitly builtins.max\n",
    "        if dept_id in max_salary_per_dept and salary == max_salary_per_dept[dept_id]:\n",
    "            result.append({\n",
    "                \"Department\": department_name,\n",
    "                \"Employee\": employee_name,\n",
    "                \"Salary\": salary\n",
    "            })\n",
    "    \n",
    "    # 4. Sort the result for consistent output (optional, but good for comparison)\n",
    "    # Sort by Department name, then Employee name\n",
    "    result.sort(key=lambda x: (x['Department'], x['Employee']))\n",
    "\n",
    "    # 5. Return the final list of highest salary employees\n",
    "    return result\n",
    "\n",
    "# --- Example Usage ---\n",
    "\n",
    "# Employee data as provided in the LeetCode problem\n",
    "employee_table = [\n",
    "    {'id': 1, 'name': 'Joe', 'salary': 70000, 'departmentId': 1},\n",
    "    {'id': 2, 'name': 'Jim', 'salary': 90000, 'departmentId': 1},\n",
    "    {'id': 3, 'name': 'Henry', 'salary': 80000, 'departmentId': 2},\n",
    "    {'id': 4, 'name': 'Sam', 'salary': 60000, 'departmentId': 2},\n",
    "    {'id': 5, 'name': 'Max', 'salary': 90000, 'departmentId': 1},\n",
    "]\n",
    "\n",
    "# Department data as provided in the LeetCode problem\n",
    "department_table = [\n",
    "    {'id': 1, 'name': 'IT'},\n",
    "    {'id': 2, 'name': 'Sales'},\n",
    "]\n",
    "\n",
    "# Get the solution\n",
    "highest_salary_employees = department_highest_salary_python(employee_table, department_table)\n",
    "\n",
    "print(\"Python Solution Output:\")\n",
    "for row in highest_salary_employees:\n",
    "    print(row)\n",
    "\n",
    "# Expected Output:\n",
    "# {'Department': 'IT', 'Employee': 'Jim', 'Salary': 90000}\n",
    "# {'Department': 'IT', 'Employee': 'Max', 'Salary': 90000}\n",
    "# {'Department': 'Sales', 'Employee': 'Henry', 'Salary': 80000}\n"
   ]
  },
  {
   "cell_type": "code",
   "execution_count": 0,
   "metadata": {
    "application/vnd.databricks.v1+cell": {
     "cellMetadata": {},
     "inputWidgets": {},
     "nuid": "329c6cd5-6240-4dc5-a902-1154777b8882",
     "showTitle": false,
     "tableResultSettingsMap": {},
     "title": ""
    }
   },
   "outputs": [],
   "source": []
  }
 ],
 "metadata": {
  "application/vnd.databricks.v1+notebook": {
   "computePreferences": null,
   "dashboards": [],
   "environmentMetadata": {
    "base_environment": "",
    "environment_version": "2"
   },
   "inputWidgetPreferences": null,
   "language": "python",
   "notebookMetadata": {
    "pythonIndentUnit": 4
   },
   "notebookName": "Pyspark and Python solution 2025-07-21 11_05_36",
   "widgets": {}
  },
  "language_info": {
   "name": "python"
  }
 },
 "nbformat": 4,
 "nbformat_minor": 0
}
