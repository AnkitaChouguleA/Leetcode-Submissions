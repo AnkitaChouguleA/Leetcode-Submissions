{
 "cells": [
  {
   "cell_type": "code",
   "execution_count": 0,
   "metadata": {
    "application/vnd.databricks.v1+cell": {
     "cellMetadata": {
      "byteLimit": 2048000,
      "rowLimit": 10000
     },
     "inputWidgets": {},
     "nuid": "80c166b9-9681-4734-9e1a-842bfef30fc5",
     "showTitle": false,
     "tableResultSettingsMap": {},
     "title": ""
    }
   },
   "outputs": [],
   "source": [
    "from pyspark.sql import SparkSession\n",
    "from pyspark.sql.functions import col, row_number, count\n",
    "from pyspark.sql.window import Window\n",
    "\n",
    "# Step 1: Create Spark session\n",
    "spark = SparkSession.builder.getOrCreate()"
   ]
  },
  {
   "cell_type": "code",
   "execution_count": 0,
   "metadata": {
    "application/vnd.databricks.v1+cell": {
     "cellMetadata": {
      "byteLimit": 2048000,
      "rowLimit": 10000
     },
     "inputWidgets": {},
     "nuid": "9124a941-71a4-403a-a4f0-fefea6d1cd7c",
     "showTitle": false,
     "tableResultSettingsMap": {},
     "title": ""
    }
   },
   "outputs": [],
   "source": [
    "# Step 2: Sample data\n",
    "data = [\n",
    "    (1, '2017-01-01', 10),\n",
    "    (2, '2017-01-02', 109),\n",
    "    (3, '2017-01-03', 150),\n",
    "    (4, '2017-01-04', 99),\n",
    "    (5, '2017-01-05', 145),\n",
    "    (6, '2017-01-06', 1455),\n",
    "    (7, '2017-01-07', 199),\n",
    "    (8, '2017-01-09', 188)\n",
    "]\n",
    "\n",
    "columns = ['id', 'visit_date', 'people']\n",
    "df = spark.createDataFrame(data, columns)\n",
    "\n",
    "display(df)"
   ]
  },
  {
   "cell_type": "code",
   "execution_count": 0,
   "metadata": {
    "application/vnd.databricks.v1+cell": {
     "cellMetadata": {
      "byteLimit": 2048000,
      "rowLimit": 10000
     },
     "inputWidgets": {},
     "nuid": "03f31b51-29d4-4183-942e-6a3dc6617005",
     "showTitle": false,
     "tableResultSettingsMap": {},
     "title": ""
    }
   },
   "outputs": [],
   "source": [
    "# Step 3: Filter people >= 100\n",
    "filtered_df = df.filter(col('people') >= 100)\n",
    "display(filtered_df)"
   ]
  },
  {
   "cell_type": "code",
   "execution_count": 0,
   "metadata": {
    "application/vnd.databricks.v1+cell": {
     "cellMetadata": {
      "byteLimit": 2048000,
      "rowLimit": 10000
     },
     "inputWidgets": {},
     "nuid": "98a884dd-66fd-4e63-a140-24077e077681",
     "showTitle": false,
     "tableResultSettingsMap": {},
     "title": ""
    }
   },
   "outputs": [],
   "source": [
    "# Step 4: Add row number and compute the grouping key\n",
    "ranked_df = filtered_df.withColumn('rn', row_number().over(window=Window.orderBy(col('id')))) \\\n",
    "            .withColumn('group_id',col('id')-col('rn'))\n",
    "display(ranked_df)"
   ]
  },
  {
   "cell_type": "code",
   "execution_count": 0,
   "metadata": {
    "application/vnd.databricks.v1+cell": {
     "cellMetadata": {
      "byteLimit": 2048000,
      "rowLimit": 10000
     },
     "inputWidgets": {},
     "nuid": "58c8fcf2-6e9c-472e-a4c8-89651c0bd66e",
     "showTitle": false,
     "tableResultSettingsMap": {},
     "title": ""
    }
   },
   "outputs": [],
   "source": [
    "# Step 5: Group by group_id and find groups with >= 3 rows\n",
    "group_counts = ranked_df.groupBy(\"group_id\").agg(count(\"*\").alias(\"cnt\"))\n",
    "valid_groups = group_counts.filter(col(\"cnt\") >= 3).select(\"group_id\")\n",
    "\n",
    "# Step 6: Join back to get valid records\n",
    "result_df = ranked_df.join(valid_groups, on='group_id', how='inner') \\\n",
    "                    .select(\"id\", \"visit_date\", \"people\") \\\n",
    "                    .orderBy(col(\"visit_date\"))\n",
    "\n",
    "display(result_df)"
   ]
  },
  {
   "cell_type": "code",
   "execution_count": 0,
   "metadata": {
    "application/vnd.databricks.v1+cell": {
     "cellMetadata": {},
     "inputWidgets": {},
     "nuid": "4c1a0ec3-945f-44ce-84db-53141490053c",
     "showTitle": false,
     "tableResultSettingsMap": {},
     "title": ""
    }
   },
   "outputs": [],
   "source": []
  }
 ],
 "metadata": {
  "application/vnd.databricks.v1+notebook": {
   "computePreferences": null,
   "dashboards": [],
   "environmentMetadata": {
    "base_environment": "",
    "environment_version": "2"
   },
   "inputWidgetPreferences": null,
   "language": "python",
   "notebookMetadata": {
    "pythonIndentUnit": 4
   },
   "notebookName": "Pyspark sln 2025-07-30 10_09_24",
   "widgets": {}
  },
  "language_info": {
   "name": "python"
  }
 },
 "nbformat": 4,
 "nbformat_minor": 0
}
