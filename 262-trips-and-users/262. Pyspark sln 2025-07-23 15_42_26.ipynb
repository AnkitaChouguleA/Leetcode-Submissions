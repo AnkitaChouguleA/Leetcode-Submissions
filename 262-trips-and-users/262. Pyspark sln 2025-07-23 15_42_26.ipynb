{
 "cells": [
  {
   "cell_type": "code",
   "execution_count": 0,
   "metadata": {
    "application/vnd.databricks.v1+cell": {
     "cellMetadata": {
      "byteLimit": 2048000,
      "rowLimit": 10000
     },
     "inputWidgets": {},
     "nuid": "30612d9c-7f6a-4603-88cb-53193e8705cf",
     "showTitle": false,
     "tableResultSettingsMap": {},
     "title": ""
    }
   },
   "outputs": [],
   "source": [
    "from pyspark.sql import SparkSession\n",
    "from pyspark.sql.functions import col, when, count, round as spark_round\n",
    "from pyspark.sql.functions import sum as spark_sum\n",
    "\n",
    "# Create Spark session\n",
    "spark = SparkSession.builder.appName(\"CancellationRate\").getOrCreate()"
   ]
  },
  {
   "cell_type": "code",
   "execution_count": 0,
   "metadata": {
    "application/vnd.databricks.v1+cell": {
     "cellMetadata": {
      "byteLimit": 2048000,
      "rowLimit": 10000
     },
     "inputWidgets": {},
     "nuid": "2565541f-4a58-4cc8-bf0d-4d15acd78853",
     "showTitle": false,
     "tableResultSettingsMap": {},
     "title": ""
    }
   },
   "outputs": [],
   "source": [
    "# Sample Trips Data\n",
    "trips_data = [\n",
    "    (1, 1, 10, 1, 'completed', '2013-10-01'),\n",
    "    (2, 2, 11, 1, 'cancelled_by_driver', '2013-10-01'),\n",
    "    (3, 3, 12, 6, 'completed', '2013-10-01'),\n",
    "    (4, 4, 13, 6, 'cancelled_by_client', '2013-10-01'),\n",
    "    (5, 1, 10, 1, 'completed', '2013-10-02'),\n",
    "    (6, 2, 11, 6, 'completed', '2013-10-02'),\n",
    "    (7, 3, 12, 6, 'completed', '2013-10-02'),\n",
    "    (8, 2, 12, 12, 'completed', '2013-10-03'),\n",
    "    (9, 3, 10, 12, 'completed', '2013-10-03'),\n",
    "    (10, 4, 13, 12, 'cancelled_by_driver', '2013-10-03')\n",
    "]\n",
    "trips_columns = ['id', 'client_id', 'driver_id', 'city_id', 'status', 'request_at']\n",
    "trips_df = spark.createDataFrame(trips_data, trips_columns)\n",
    "display(trips_df)"
   ]
  },
  {
   "cell_type": "code",
   "execution_count": 0,
   "metadata": {
    "application/vnd.databricks.v1+cell": {
     "cellMetadata": {
      "byteLimit": 2048000,
      "rowLimit": 10000
     },
     "inputWidgets": {},
     "nuid": "70f6d941-0127-4615-b456-32fe5602c796",
     "showTitle": false,
     "tableResultSettingsMap": {},
     "title": ""
    }
   },
   "outputs": [],
   "source": [
    "# Sample Users Data\n",
    "users_data = [\n",
    "    (1, 'No', 'client'),\n",
    "    (2, 'Yes', 'client'),\n",
    "    (3, 'No', 'client'),\n",
    "    (4, 'No', 'client'),\n",
    "    (10, 'No', 'driver'),\n",
    "    (11, 'No', 'driver'),\n",
    "    (12, 'No', 'driver'),\n",
    "    (13, 'No', 'driver')\n",
    "]\n",
    "users_columns = ['users_id', 'banned', 'role']\n",
    "users_df = spark.createDataFrame(users_data, users_columns)\n",
    "display(users_df)"
   ]
  },
  {
   "cell_type": "code",
   "execution_count": 0,
   "metadata": {
    "application/vnd.databricks.v1+cell": {
     "cellMetadata": {
      "byteLimit": 2048000,
      "rowLimit": 10000
     },
     "inputWidgets": {},
     "nuid": "f7e23176-fc53-470d-bdd1-fbfa0873d500",
     "showTitle": false,
     "tableResultSettingsMap": {},
     "title": ""
    }
   },
   "outputs": [],
   "source": [
    "from pyspark.sql.functions import col\n",
    "\n",
    "# Join to get unbanned clients\n",
    "trips_with_client = trips_df.alias('t').join(\n",
    "    users_df.alias('uc'),\n",
    "    col('t.client_id') == col('uc.users_id'),\n",
    "    'inner'\n",
    ").filter(col('uc.banned') == 'No')\n",
    "\n",
    "display(trips_with_client)"
   ]
  },
  {
   "cell_type": "code",
   "execution_count": 0,
   "metadata": {
    "application/vnd.databricks.v1+cell": {
     "cellMetadata": {
      "byteLimit": 2048000,
      "rowLimit": 10000
     },
     "inputWidgets": {},
     "nuid": "f9aeae2b-88fb-4771-aad5-a83615b864b6",
     "showTitle": false,
     "tableResultSettingsMap": {},
     "title": ""
    }
   },
   "outputs": [],
   "source": [
    "# Join again to get unbanned drivers\n",
    "trips_filtered = trips_with_client.alias('tc').join(\n",
    "    users_df.alias('ud'),\n",
    "    col('tc.driver_id') == col('ud.users_id'),\n",
    "    'inner'\n",
    ").filter(col('ud.banned') == 'No').select(('tc.id'),('tc.status'),('tc.request_at'))\n",
    "\n",
    "display(trips_filtered)"
   ]
  },
  {
   "cell_type": "code",
   "execution_count": 0,
   "metadata": {
    "application/vnd.databricks.v1+cell": {
     "cellMetadata": {
      "byteLimit": 2048000,
      "rowLimit": 10000
     },
     "inputWidgets": {},
     "nuid": "af08176a-a24d-41be-b412-ef7d9cdaf698",
     "showTitle": false,
     "tableResultSettingsMap": {},
     "title": ""
    }
   },
   "outputs": [],
   "source": [
    "# Add a new column to flag cancellations\n",
    "trips_flagged = trips_filtered.withColumn('cancelled', when(col('status') != 'completed', 1).otherwise(0))\n",
    "\n",
    "display(trips_flagged)"
   ]
  },
  {
   "cell_type": "code",
   "execution_count": 0,
   "metadata": {
    "application/vnd.databricks.v1+cell": {
     "cellMetadata": {
      "byteLimit": 2048000,
      "rowLimit": 10000
     },
     "inputWidgets": {},
     "nuid": "9bb96a8e-1de4-4f8e-9cc9-dd58cb006e10",
     "showTitle": false,
     "tableResultSettingsMap": {},
     "title": ""
    }
   },
   "outputs": [],
   "source": [
    "# Group by date and compute total and cancelled\n",
    "cancellation_stats = trips_flagged.groupBy('request_at').agg(\n",
    "    count('*').alias('total'),\n",
    "    spark_sum('cancelled').alias('cancelled')\n",
    ")\n",
    "\n",
    "display(cancellation_stats)"
   ]
  },
  {
   "cell_type": "markdown",
   "metadata": {
    "application/vnd.databricks.v1+cell": {
     "cellMetadata": {},
     "inputWidgets": {},
     "nuid": "d50516f4-8604-4ec6-a5be-05c01438c04d",
     "showTitle": false,
     "tableResultSettingsMap": {},
     "title": ""
    }
   },
   "source": [
    "In PySpark, the format_number function is used to format numeric columns to a string with a fixed number of decimal places.\n",
    "\n",
    "🔧 Syntax: \n",
    "from pyspark.sql.functions import format_number\n",
    "\n",
    "format_number(column, d)\n",
    "\n",
    "column: the numeric column to be formatted.\n",
    "\n",
    "d: number of decimal places to round and format to.\n",
    "\n",
    "Returns a string column, not a numeric column."
   ]
  },
  {
   "cell_type": "code",
   "execution_count": 0,
   "metadata": {
    "application/vnd.databricks.v1+cell": {
     "cellMetadata": {
      "byteLimit": 2048000,
      "rowLimit": 10000
     },
     "inputWidgets": {},
     "nuid": "8e4d06e2-83b7-43e7-b9b5-a5c44d6ba2fa",
     "showTitle": false,
     "tableResultSettingsMap": {},
     "title": ""
    }
   },
   "outputs": [],
   "source": [
    "# Calculate cancellation rate and round it\n",
    "from pyspark.sql.functions import format_number\n",
    "\n",
    "result_df = cancellation_stats \\\n",
    "            .withColumn('cancellation rate', format_number(col('cancelled') * 1.0 / col('total') * 1.0, 2)) \\\n",
    "            .select(col('request_at').alias('Day'),col('cancellation rate').alias('Cancellation Rate')) \\\n",
    "            .filter(col('Day').between ('2013-10-01', '2013-10-03'))\n",
    "\n",
    "display(result_df)"
   ]
  },
  {
   "cell_type": "code",
   "execution_count": 0,
   "metadata": {
    "application/vnd.databricks.v1+cell": {
     "cellMetadata": {},
     "inputWidgets": {},
     "nuid": "bef59f48-b628-4f61-a7a9-e9fd32571ecb",
     "showTitle": false,
     "tableResultSettingsMap": {},
     "title": ""
    }
   },
   "outputs": [],
   "source": []
  }
 ],
 "metadata": {
  "application/vnd.databricks.v1+notebook": {
   "computePreferences": null,
   "dashboards": [],
   "environmentMetadata": {
    "base_environment": "",
    "environment_version": "2"
   },
   "inputWidgetPreferences": null,
   "language": "python",
   "notebookMetadata": {
    "pythonIndentUnit": 4
   },
   "notebookName": "262. Pyspark sln 2025-07-23 15_42_26",
   "widgets": {}
  },
  "language_info": {
   "name": "python"
  }
 },
 "nbformat": 4,
 "nbformat_minor": 0
}
