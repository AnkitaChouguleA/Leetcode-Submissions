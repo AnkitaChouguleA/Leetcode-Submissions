{
 "cells": [
  {
   "cell_type": "code",
   "execution_count": 0,
   "metadata": {
    "application/vnd.databricks.v1+cell": {
     "cellMetadata": {
      "byteLimit": 2048000,
      "rowLimit": 10000
     },
     "inputWidgets": {},
     "nuid": "02abd0df-cd2c-4767-8905-8a0bbbb37910",
     "showTitle": false,
     "tableResultSettingsMap": {},
     "title": ""
    }
   },
   "outputs": [],
   "source": [
    "# Install the tabulate module (if running in an environment like Databricks or Jupyter)\n",
    "# %pip install tabulate\n",
    "\n",
    "import pandas as pd\n",
    "from datetime import datetime\n",
    "from tabulate import tabulate # For pretty printing tables\n",
    "\n",
    "# --- CORRECT SAMPLE DATA (from LeetCode Problem 262 Example 1) ---\n",
    "\n",
    "# Users table data as per LeetCode Example 1\n",
    "users = pd.DataFrame({\n",
    "    'users_id': [1, 2, 3, 4, 10, 11, 12, 13],\n",
    "    'banned': ['No', 'Yes', 'No', 'No', 'No', 'Yes', 'No', 'No'],\n",
    "    'role': ['client', 'client', 'client', 'client', 'driver', 'driver', 'driver', 'driver']\n",
    "})\n",
    "\n",
    "# Trips table data as per LeetCode Example 1\n",
    "trips = pd.DataFrame({\n",
    "    'id': [1, 2, 3, 4, 5, 6, 7, 8, 9, 10],\n",
    "    'client_id': [1, 2, 3, 4, 1, 2, 3, 2, 3, 4],\n",
    "    'driver_id': [10, 11, 12, 13, 10, 11, 12, 12, 10, 13],\n",
    "    'city_id': [1, 1, 6, 6, 1, 6, 6, 12, 12, 12],\n",
    "    'status': ['completed', 'cancelled_by_driver', 'completed', 'cancelled_by_client', 'completed', 'completed', 'completed', 'completed', 'completed', 'cancelled_by_driver'],\n",
    "    'request_at': ['2013-10-01', '2013-10-01', '2013-10-01', '2013-10-02', '2013-10-02', '2013-10-02', '2013-10-03', '2013-10-03', '2013-10-03', '2013-10-04']\n",
    "})\n",
    "\n",
    "# Convert 'request_at' column to datetime objects for proper filtering\n",
    "trips['request_at'] = pd.to_datetime(trips['request_at'])\n",
    "\n",
    "# --- Solution Logic ---\n",
    "\n",
    "# 1. Merge users data twice to get banned status for both client and driver\n",
    "#    This is crucial as 'client_id' and 'driver_id' are both 'users_id' from the Users table.\n",
    "\n",
    "# Merge for client banned status\n",
    "df = trips.merge(\n",
    "    users[['users_id', 'banned']].rename(columns={'users_id': 'client_id', 'banned': 'client_banned'}),\n",
    "    on='client_id',\n",
    "    how='left'\n",
    ")\n",
    "\n",
    "# Merge for driver banned status\n",
    "df = df.merge(\n",
    "    users[['users_id', 'banned']].rename(columns={'users_id': 'driver_id', 'banned': 'driver_banned'}),\n",
    "    on='driver_id',\n",
    "    how='left'\n",
    ")\n",
    "\n",
    "# 2. Filter out trips where either the client or the driver is banned\n",
    "df_filtered = df[(df['client_banned'] == 'No') & (df['driver_banned'] == 'No')]\n",
    "\n",
    "# 3. Filter for the specified date range\n",
    "start_date = datetime.strptime(\"2013-10-01\", \"%Y-%m-%d\").date()\n",
    "end_date = datetime.strptime(\"2013-10-03\", \"%Y-%m-%d\").date()\n",
    "\n",
    "# Convert DataFrame's request_at to date objects for comparison\n",
    "df_filtered['request_at_date'] = df_filtered['request_at'].dt.date\n",
    "df_filtered = df_filtered[(df_filtered['request_at_date'] >= start_date) & (df_filtered['request_at_date'] <= end_date)]\n",
    "\n",
    "# 4. Identify cancelled trips\n",
    "df_filtered['is_cancelled'] = df_filtered['status'].apply(lambda x: x.startswith('cancelled'))\n",
    "\n",
    "# 5. Group by request_at (date) and calculate total and cancelled requests\n",
    "summary = df_filtered.groupby('request_at_date').agg(\n",
    "    total_requests=('id', 'count'),\n",
    "    cancelled_requests=('is_cancelled', 'sum')\n",
    ").reset_index()\n",
    "\n",
    "# 6. Ensure all days in the range are present, even if they had no valid trips\n",
    "#    Create a full date range and left merge with the summary\n",
    "full_date_range = pd.DataFrame(pd.date_range(start=start_date, end=end_date), columns=['request_at_date'])\n",
    "full_date_range['request_at_date'] = full_date_range['request_at_date'].dt.date\n",
    "\n",
    "summary = full_date_range.merge(summary, on='request_at_date', how='left')\n",
    "\n",
    "# Fill NaNs with 0 for counts, and 0.00 for cancellation rate\n",
    "summary['total_requests'] = summary['total_requests'].fillna(0).astype(int)\n",
    "summary['cancelled_requests'] = summary['cancelled_requests'].fillna(0).astype(int)\n",
    "\n",
    "# 7. Calculate cancellation rate and round to two decimal places\n",
    "#    Handle division by zero for days with no total requests\n",
    "summary['Cancellation Rate'] = summary.apply(\n",
    "    lambda row: round(row['cancelled_requests'] / row['total_requests'], 2) if row['total_requests'] > 0 else 0.00,\n",
    "    axis=1\n",
    ")\n",
    "\n",
    "# 8. Format date column back to string 'YYYY-MM-DD'\n",
    "summary['Day'] = summary['request_at_date'].astype(str)\n",
    "\n",
    "# 9. Select and rename columns for final output\n",
    "result = summary[['Day', 'Cancellation Rate']]\n",
    "\n",
    "# --- Print Final Output in Table Format ---\n",
    "print(\"Pandas Solution Output (using LeetCode example data):\")\n",
    "# Use tabulate to print the DataFrame as a GitHub-flavored Markdown table\n",
    "print(tabulate(result, headers='keys', tablefmt='github'))"
   ]
  },
  {
   "cell_type": "code",
   "execution_count": 0,
   "metadata": {
    "application/vnd.databricks.v1+cell": {
     "cellMetadata": {},
     "inputWidgets": {},
     "nuid": "861f933d-2668-484f-b67f-1f39f3ca3c9a",
     "showTitle": false,
     "tableResultSettingsMap": {},
     "title": ""
    }
   },
   "outputs": [],
   "source": []
  }
 ],
 "metadata": {
  "application/vnd.databricks.v1+notebook": {
   "computePreferences": null,
   "dashboards": [],
   "environmentMetadata": {
    "base_environment": "",
    "environment_version": "2"
   },
   "inputWidgetPreferences": null,
   "language": "python",
   "notebookMetadata": {
    "pythonIndentUnit": 4
   },
   "notebookName": "python sln2025-07-23 16_16_22",
   "widgets": {}
  },
  "language_info": {
   "name": "python"
  }
 },
 "nbformat": 4,
 "nbformat_minor": 0
}
