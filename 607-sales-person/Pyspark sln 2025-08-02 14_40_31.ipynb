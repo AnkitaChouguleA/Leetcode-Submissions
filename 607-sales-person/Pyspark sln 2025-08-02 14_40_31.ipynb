{
 "cells": [
  {
   "cell_type": "code",
   "execution_count": 0,
   "metadata": {
    "application/vnd.databricks.v1+cell": {
     "cellMetadata": {
      "byteLimit": 2048000,
      "rowLimit": 10000
     },
     "inputWidgets": {},
     "nuid": "b81e5cb0-89af-465b-8c5f-a182b5d7cbc0",
     "showTitle": false,
     "tableResultSettingsMap": {},
     "title": ""
    }
   },
   "outputs": [],
   "source": [
    "from pyspark.sql import SparkSession\n",
    "from pyspark.sql.functions import col\n",
    "\n",
    "spark = SparkSession.builder.getOrCreate()\n",
    "\n",
    "spark"
   ]
  },
  {
   "cell_type": "code",
   "execution_count": 0,
   "metadata": {
    "application/vnd.databricks.v1+cell": {
     "cellMetadata": {
      "byteLimit": 2048000,
      "rowLimit": 10000
     },
     "inputWidgets": {},
     "nuid": "602bdf3d-179b-49af-b817-c9a67db5ec98",
     "showTitle": false,
     "tableResultSettingsMap": {},
     "title": ""
    }
   },
   "outputs": [],
   "source": [
    "salesperson_data = [\n",
    "    (1, \"John\", 100000, 6, \"4/1/2006\"),\n",
    "    (2, \"Amy\", 12000, 5, \"5/1/2010\"),\n",
    "    (3, \"Mark\", 65000, 12, \"12/25/2008\"),\n",
    "    (4, \"Pam\", 25000, 25, \"1/1/2005\"),\n",
    "    (5, \"Alex\", 5000, 10, \"2/3/2007\")\n",
    "]\n",
    "salesperson_columns = [\"sales_id\", \"name\", \"salary\", \"commission_rate\", \"hire_date\"]\n",
    "sales_df = spark.createDataFrame(salesperson_data, salesperson_columns)\n",
    "display(sales_df)"
   ]
  },
  {
   "cell_type": "code",
   "execution_count": 0,
   "metadata": {
    "application/vnd.databricks.v1+cell": {
     "cellMetadata": {
      "byteLimit": 2048000,
      "rowLimit": 10000
     },
     "inputWidgets": {},
     "nuid": "25e684b3-373c-463a-81e8-66419c0101b4",
     "showTitle": false,
     "tableResultSettingsMap": {},
     "title": ""
    }
   },
   "outputs": [],
   "source": [
    "company_data = [\n",
    "    (1, \"RED\", \"Boston\"),\n",
    "    (2, \"ORANGE\", \"New York\"),\n",
    "    (3, \"YELLOW\", \"Boston\"),\n",
    "    (4, \"GREEN\", \"Austin\")\n",
    "]\n",
    "company_columns = [\"com_id\", \"name\", \"city\"]\n",
    "company_df = spark.createDataFrame(company_data, company_columns)\n",
    "display(company_df)"
   ]
  },
  {
   "cell_type": "code",
   "execution_count": 0,
   "metadata": {
    "application/vnd.databricks.v1+cell": {
     "cellMetadata": {
      "byteLimit": 2048000,
      "rowLimit": 10000
     },
     "inputWidgets": {},
     "nuid": "1284bce9-aab5-4dbb-bc37-1f67433b4855",
     "showTitle": false,
     "tableResultSettingsMap": {},
     "title": ""
    }
   },
   "outputs": [],
   "source": [
    "orders_data = [\n",
    "    (1, \"1/1/2014\", 3, 4, 10000),\n",
    "    (2, \"2/1/2014\", 4, 5, 5000),\n",
    "    (3, \"3/1/2014\", 1, 1, 50000),\n",
    "    (4, \"4/1/2014\", 1, 4, 25000)\n",
    "]\n",
    "orders_columns = [\"order_id\", \"order_date\", \"com_id\", \"sales_id\", \"amount\"]\n",
    "orders_df = spark.createDataFrame(orders_data, orders_columns)\n",
    "display(orders_df)"
   ]
  },
  {
   "cell_type": "code",
   "execution_count": 0,
   "metadata": {
    "application/vnd.databricks.v1+cell": {
     "cellMetadata": {
      "byteLimit": 2048000,
      "rowLimit": 10000
     },
     "inputWidgets": {},
     "nuid": "a0881151-344c-4d83-8a60-b0b479aabf60",
     "showTitle": false,
     "tableResultSettingsMap": {},
     "title": ""
    }
   },
   "outputs": [],
   "source": [
    "# Step 1: Filter RED company's com_id\n",
    "red_company_df = company_df.filter(col(\"name\") == \"RED\").select(\"com_id\")\n",
    "display(red_company_df)"
   ]
  },
  {
   "cell_type": "code",
   "execution_count": 0,
   "metadata": {
    "application/vnd.databricks.v1+cell": {
     "cellMetadata": {
      "byteLimit": 2048000,
      "rowLimit": 10000
     },
     "inputWidgets": {},
     "nuid": "943c468e-2632-4082-a92a-008f53269069",
     "showTitle": false,
     "tableResultSettingsMap": {},
     "title": ""
    }
   },
   "outputs": [],
   "source": [
    "# Step 2: Join Orders with RED to get sales_ids who sold to RED\n",
    "red_sales_df = orders_df.join(red_company_df,orders_df.com_id == red_company_df.com_id).select(\"sales_id\")\n",
    "display(red_sales_df)"
   ]
  },
  {
   "cell_type": "code",
   "execution_count": 0,
   "metadata": {
    "application/vnd.databricks.v1+cell": {
     "cellMetadata": {
      "byteLimit": 2048000,
      "rowLimit": 10000
     },
     "inputWidgets": {},
     "nuid": "136164cc-9982-4bca-bb24-d7c480e8db86",
     "showTitle": false,
     "tableResultSettingsMap": {},
     "title": ""
    }
   },
   "outputs": [],
   "source": [
    "# Step 3: Find salespersons NOT in red_sales_df (anti join)\n",
    "result_df = sales_df.join(red_sales_df,sales_df.sales_id == red_sales_df.sales_id,\"left_anti\") \\\n",
    "    .select(\"name\")\n",
    "display(result_df)\n"
   ]
  },
  {
   "cell_type": "code",
   "execution_count": 0,
   "metadata": {
    "application/vnd.databricks.v1+cell": {
     "cellMetadata": {},
     "inputWidgets": {},
     "nuid": "086fb9bf-0f3a-4bda-ad54-64f525d6896d",
     "showTitle": false,
     "tableResultSettingsMap": {},
     "title": ""
    }
   },
   "outputs": [],
   "source": []
  }
 ],
 "metadata": {
  "application/vnd.databricks.v1+notebook": {
   "computePreferences": null,
   "dashboards": [],
   "environmentMetadata": {
    "base_environment": "",
    "environment_version": "2"
   },
   "inputWidgetPreferences": null,
   "language": "python",
   "notebookMetadata": {
    "pythonIndentUnit": 4
   },
   "notebookName": "Pyspark sln 2025-08-02 14_40_31",
   "widgets": {}
  },
  "language_info": {
   "name": "python"
  }
 },
 "nbformat": 4,
 "nbformat_minor": 0
}
